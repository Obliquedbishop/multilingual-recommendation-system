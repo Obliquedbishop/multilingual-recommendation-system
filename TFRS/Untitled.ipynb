{
 "cells": [
  {
   "cell_type": "code",
   "execution_count": 14,
   "id": "1bd55bd7",
   "metadata": {},
   "outputs": [
    {
     "name": "stdout",
     "output_type": "stream",
     "text": [
      "Installing Altair...\n",
      "Collecting git+https://github.com/altair-viz/altair.git\n",
      "  Cloning https://github.com/altair-viz/altair.git to c:\\users\\shreyansh\\appdata\\local\\temp\\pip-req-build-b6jl6vei\n",
      "  Resolved https://github.com/altair-viz/altair.git to commit 601ae167a66d77cd6b5f154a53c63a364afc7c16\n",
      "  Installing build dependencies: started\n",
      "  Installing build dependencies: finished with status 'done'\n",
      "  Getting requirements to build wheel: started\n",
      "  Getting requirements to build wheel: finished with status 'done'\n",
      "Done installing Altair.  Preparing metadata (pyproject.toml): started\n",
      "  Preparing metadata (pyproject.toml): finished with status 'done'\n",
      "Requirement already satisfied: jinja2 in c:\\users\\shreyansh\\appdata\\local\\programs\\python\\python39\\lib\\site-packages (from altair==5.1.0.dev0) (3.1.2)\n",
      "Requirement already satisfied: jsonschema>=3.0 in c:\\users\\shreyansh\\appdata\\local\\programs\\python\\python39\\lib\\site-packages (from altair==5.1.0.dev0) (3.2.0)\n",
      "Requirement already satisfied: numpy in c:\\users\\shreyansh\\appdata\\local\\programs\\python\\python39\\lib\\site-packages (from altair==5.1.0.dev0) (1.23.5)\n",
      "Requirement already satisfied: pandas>=0.18 in c:\\users\\shreyansh\\appdata\\local\\programs\\python\\python39\\lib\\site-packages (from altair==5.1.0.dev0) (1.5.3)\n",
      "Requirement already satisfied: toolz in c:\\users\\shreyansh\\appdata\\local\\programs\\python\\python39\\lib\\site-packages (from altair==5.1.0.dev0) (0.12.0)\n",
      "Requirement already satisfied: typing-extensions>=4.0.1 in c:\\users\\shreyansh\\appdata\\local\\programs\\python\\python39\\lib\\site-packages (from altair==5.1.0.dev0) (4.4.0)\n",
      "Requirement already satisfied: attrs>=17.4.0 in c:\\users\\shreyansh\\appdata\\local\\programs\\python\\python39\\lib\\site-packages (from jsonschema>=3.0->altair==5.1.0.dev0) (20.3.0)\n",
      "Requirement already satisfied: pyrsistent>=0.14.0 in c:\\users\\shreyansh\\appdata\\local\\programs\\python\\python39\\lib\\site-packages (from jsonschema>=3.0->altair==5.1.0.dev0) (0.17.3)\n",
      "Requirement already satisfied: setuptools in c:\\users\\shreyansh\\appdata\\local\\programs\\python\\python39\\lib\\site-packages (from jsonschema>=3.0->altair==5.1.0.dev0) (62.3.2)\n",
      "Requirement already satisfied: six>=1.11.0 in c:\\users\\shreyansh\\appdata\\local\\programs\\python\\python39\\lib\\site-packages (from jsonschema>=3.0->altair==5.1.0.dev0) (1.15.0)\n",
      "Requirement already satisfied: python-dateutil>=2.8.1 in c:\\users\\shreyansh\\appdata\\local\\programs\\python\\python39\\lib\\site-packages (from pandas>=0.18->altair==5.1.0.dev0) (2.8.2)\n",
      "Requirement already satisfied: pytz>=2020.1 in c:\\users\\shreyansh\\appdata\\local\\programs\\python\\python39\\lib\\site-packages (from pandas>=0.18->altair==5.1.0.dev0) (2020.5)\n",
      "Requirement already satisfied: MarkupSafe>=2.0 in c:\\users\\shreyansh\\appdata\\local\\programs\\python\\python39\\lib\\site-packages (from jinja2->altair==5.1.0.dev0) (2.0.1)\n",
      "\n"
     ]
    },
    {
     "name": "stderr",
     "output_type": "stream",
     "text": [
      "  Running command git clone --filter=blob:none --quiet https://github.com/altair-viz/altair.git 'C:\\Users\\Shreyansh\\AppData\\Local\\Temp\\pip-req-build-b6jl6vei'\n"
     ]
    },
    {
     "name": "stdout",
     "output_type": "stream",
     "text": [
      "Requirement already satisfied: gspread in c:\\users\\shreyansh\\appdata\\local\\programs\\python\\python39\\lib\\site-packages (5.9.0)\n",
      "Collecting oauth2client\n",
      "  Downloading oauth2client-4.1.3-py2.py3-none-any.whl (98 kB)\n",
      "     -------------------------------------- 98.2/98.2 kB 374.3 kB/s eta 0:00:00\n",
      "Requirement already satisfied: google-auth>=1.12.0 in c:\\users\\shreyansh\\appdata\\local\\programs\\python\\python39\\lib\\site-packages (from gspread) (2.18.0)\n",
      "Requirement already satisfied: google-auth-oauthlib>=0.4.1 in c:\\users\\shreyansh\\appdata\\local\\programs\\python\\python39\\lib\\site-packages (from gspread) (1.0.0)\n",
      "Requirement already satisfied: httplib2>=0.9.1 in c:\\users\\shreyansh\\appdata\\local\\programs\\python\\python39\\lib\\site-packages (from oauth2client) (0.20.4)\n",
      "Requirement already satisfied: pyasn1>=0.1.7 in c:\\users\\shreyansh\\appdata\\local\\programs\\python\\python39\\lib\\site-packages (from oauth2client) (0.4.8)\n",
      "Requirement already satisfied: pyasn1-modules>=0.0.5 in c:\\users\\shreyansh\\appdata\\local\\programs\\python\\python39\\lib\\site-packages (from oauth2client) (0.2.8)\n",
      "Requirement already satisfied: rsa>=3.1.4 in c:\\users\\shreyansh\\appdata\\local\\programs\\python\\python39\\lib\\site-packages (from oauth2client) (4.8)\n",
      "Requirement already satisfied: six>=1.6.1 in c:\\users\\shreyansh\\appdata\\local\\programs\\python\\python39\\lib\\site-packages (from oauth2client) (1.15.0)\n",
      "Requirement already satisfied: cachetools<6.0,>=2.0.0 in c:\\users\\shreyansh\\appdata\\local\\programs\\python\\python39\\lib\\site-packages (from google-auth>=1.12.0->gspread) (5.2.0)\n",
      "Requirement already satisfied: urllib3<2.0 in c:\\users\\shreyansh\\appdata\\local\\programs\\python\\python39\\lib\\site-packages (from google-auth>=1.12.0->gspread) (1.26.6)\n",
      "Requirement already satisfied: requests-oauthlib>=0.7.0 in c:\\users\\shreyansh\\appdata\\local\\programs\\python\\python39\\lib\\site-packages (from google-auth-oauthlib>=0.4.1->gspread) (1.3.1)\n",
      "Requirement already satisfied: pyparsing!=3.0.0,!=3.0.1,!=3.0.2,!=3.0.3,<4,>=2.4.2 in c:\\users\\shreyansh\\appdata\\local\\programs\\python\\python39\\lib\\site-packages (from httplib2>=0.9.1->oauth2client) (2.4.7)\n",
      "Requirement already satisfied: oauthlib>=3.0.0 in c:\\users\\shreyansh\\appdata\\local\\programs\\python\\python39\\lib\\site-packages (from requests-oauthlib>=0.7.0->google-auth-oauthlib>=0.4.1->gspread) (3.2.0)\n",
      "Requirement already satisfied: requests>=2.0.0 in c:\\users\\shreyansh\\appdata\\local\\programs\\python\\python39\\lib\\site-packages (from requests-oauthlib>=0.7.0->google-auth-oauthlib>=0.4.1->gspread) (2.26.0)\n",
      "Requirement already satisfied: certifi>=2017.4.17 in c:\\users\\shreyansh\\appdata\\local\\programs\\python\\python39\\lib\\site-packages (from requests>=2.0.0->requests-oauthlib>=0.7.0->google-auth-oauthlib>=0.4.1->gspread) (2022.9.24)\n",
      "Requirement already satisfied: charset-normalizer~=2.0.0 in c:\\users\\shreyansh\\appdata\\local\\programs\\python\\python39\\lib\\site-packages (from requests>=2.0.0->requests-oauthlib>=0.7.0->google-auth-oauthlib>=0.4.1->gspread) (2.0.3)\n",
      "Requirement already satisfied: idna<4,>=2.5 in c:\\users\\shreyansh\\appdata\\local\\programs\\python\\python39\\lib\\site-packages (from requests>=2.0.0->requests-oauthlib>=0.7.0->google-auth-oauthlib>=0.4.1->gspread) (3.1)\n",
      "Installing collected packages: oauth2client\n",
      "Successfully installed oauth2client-4.1.3\n"
     ]
    }
   ],
   "source": [
    "# Imports\n",
    "from __future__ import print_function\n",
    "\n",
    "import numpy as np\n",
    "import pandas as pd\n",
    "import collections\n",
    "from mpl_toolkits.mplot3d import Axes3D\n",
    "from IPython import display\n",
    "from matplotlib import pyplot as plt\n",
    "import sklearn\n",
    "import sklearn.manifold\n",
    "import tensorflow as tf\n",
    "tf.get_logger().setLevel('ERROR')\n",
    "\n",
    "# Add some convenience functions to Pandas DataFrame.\n",
    "pd.options.display.max_rows = 10\n",
    "pd.options.display.float_format = '{:.3f}'.format\n",
    "def mask(df, key, function):\n",
    "    \"\"\"Returns a filtered dataframe, by applying function to key\"\"\"\n",
    "    return df[function(df[key])]\n",
    "\n",
    "def flatten_cols(df):\n",
    "    df.columns = [' '.join(col).strip() for col in df.columns.values]\n",
    "    return df\n",
    "\n",
    "pd.DataFrame.mask = mask\n",
    "pd.DataFrame.flatten_cols = flatten_cols\n",
    "\n",
    "# Install Altair\n",
    "print(\"Installing Altair...\")\n",
    "!pip install git+https://github.com/altair-viz/altair.git\n",
    "import altair as alt\n",
    "alt.data_transformers.enable('default', max_rows=None)\n",
    "print(\"Done installing Altair.\")\n",
    "\n",
    "# Install spreadsheets and import authentication module.\n",
    "USER_RATINGS = False\n",
    "!pip install --upgrade -q gspread\n",
    "!pip install gspread oauth2client\n",
    "import gspread\n",
    "from oauth2client.client import GoogleCredentials"
   ]
  },
  {
   "cell_type": "code",
   "execution_count": null,
   "id": "2733520e",
   "metadata": {},
   "outputs": [],
   "source": []
  }
 ],
 "metadata": {
  "kernelspec": {
   "display_name": "Python 3",
   "language": "python",
   "name": "python3"
  },
  "language_info": {
   "codemirror_mode": {
    "name": "ipython",
    "version": 3
   },
   "file_extension": ".py",
   "mimetype": "text/x-python",
   "name": "python",
   "nbconvert_exporter": "python",
   "pygments_lexer": "ipython3",
   "version": "3.9.0"
  }
 },
 "nbformat": 4,
 "nbformat_minor": 5
}
