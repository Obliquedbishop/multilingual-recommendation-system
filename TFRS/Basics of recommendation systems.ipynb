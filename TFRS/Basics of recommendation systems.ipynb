{
 "cells": [
  {
   "cell_type": "markdown",
   "id": "b968a7be",
   "metadata": {},
   "source": [
    "# <ins> <b> Google's open source resources for recommendation systems:</b> </ins>\n",
    "\n",
    "[TensorFlow Recommenders](https://www.tensorflow.org/recommenders)<br>\n",
    "[Scalable Nearest Neighbour (ScaNN)](https://github.com/google-research/google-research/tree/master/scann)<br>\n",
    "[TensorFlow Ranking](https://github.com/tensorflow/ranking)<br>\n",
    "[TensorFlow Lite (Recommendations)](https://www.tensorflow.org/lite/examples/recommendation/overview)<br>\n",
    "[TensorFlow SIG recommenders Addons](https://github.com/tensorflow/recommenders-addons)<br>\n",
    "<hr style=\"border-color: black; border-width: 1px;\">\n",
    "\n",
    "# <ins><b> Content-based filtering:</b></ins>\n",
    "<p> Content-based filtering uses <b> item features </b> to provide recommendations.</p>\n",
    "<hr style=\"border-color: black; border-width: 1px;\">\n",
    "\n",
    "# <ins><b> Collaborative filtering </b></ins>\n",
    "<p> Collaborative filtering <b>uses similarities between users and items simultaneously</b> to provide recommendations.</p>\n",
    "<hr style=\"border-color: black; border-width: 3px;\">\n"
   ]
  },
  {
   "cell_type": "markdown",
   "id": "5aec7902",
   "metadata": {},
   "source": [
    "# <ins><b>Terminology:</b></ins>\n",
    "### <ins>1. Items (also known as <b>documents</b>):</ins>\n",
    "    The entities a system recommends. For Google Play store, its the apps, for Amazon its the products to buy, etc.\n",
    "<hr style=\"border-color: black; border-width: 1px;\">\n",
    "\n",
    "### <ins>2. Query (also known as context)</ins>:\n",
    "    The information a system uses to make recommendations.\n",
    "<ul>\n",
    "    <li> <ins><b>User Information</b></ins>\n",
    "    <ul>\n",
    "        <li>The id of the user</li>\n",
    "        <li>Items the user interacted with</li>\n",
    "    </ul>\n",
    "</li>\n",
    "    <li> <ins><b>Additional context</b></ins>\n",
    "    <ul>\n",
    "        <li> time of the day </li>\n",
    "        <li> the user's device </li>\n",
    "    </ul>\n",
    "</li>\n",
    "</ul>\n",
    "<hr style=\"border-color: black; border-width: 1px;\">\n",
    "\n",
    "### <ins>Embedding</ins>:\n",
    "    A mapping from a discrete set (in this case a set of queries, or set of items) to a vector space called the embedding space.\n",
    "<hr style=\"border-color: black; border-width: 3px;\">\n"
   ]
  },
  {
   "cell_type": "markdown",
   "id": "4dafca95",
   "metadata": {},
   "source": [
    "# <ins> Common architecture includes: </ins>\n",
    "<ul>\n",
    "<li> <b>Candidate generation:</b><br>\n",
    "It's the first stage where a large corpus is reduced to thousands of candidates. A given model may have mulitple candidate generators, each nominating a different subset of candidates.</li>\n",
    "<hr style=\"border-color: black; border-width: 1px;\">\n",
    "\n",
    "    \n",
    "<li> <b>scoring:</b><br>\n",
    "This model scores and ranks the candidates (order of 10) in order to select the items to display. Here as the items are little, model can use more queries to be more precise.</li>\n",
    "<hr style=\"border-color: black; border-width: 1px;\">\n",
    "\n",
    "    \n",
    "<li> <b>Re-ranking:</b><br>\n",
    "Finally system takes into account some constraints for the final ranking. Like, removing items that user explicitly disliked or boosting the score for fresh content.</li>\n",
    "<hr style=\"border-color: black; border-width: 1px;\">\n",
    "\n",
    "</ul>"
   ]
  },
  {
   "cell_type": "markdown",
   "id": "bb425be8",
   "metadata": {},
   "source": [
    "# <ins>Embeddings Similarity:</ins>\n",
    "<ul>\n",
    "    <li>Cosine</li>\n",
    "    <li>Dot Product</li>\n",
    "    <li>Euclidean Distance</li>\n",
    "</ul>\n",
    "\n",
    "<b>Note: If embeddings are normalized then all the 3 methods result in the same output.</b>"
   ]
  },
  {
   "cell_type": "code",
   "execution_count": null,
   "id": "63de322c",
   "metadata": {},
   "outputs": [],
   "source": []
  }
 ],
 "metadata": {
  "kernelspec": {
   "display_name": "Python 3",
   "language": "python",
   "name": "python3"
  },
  "language_info": {
   "codemirror_mode": {
    "name": "ipython",
    "version": 3
   },
   "file_extension": ".py",
   "mimetype": "text/x-python",
   "name": "python",
   "nbconvert_exporter": "python",
   "pygments_lexer": "ipython3",
   "version": "3.9.0"
  }
 },
 "nbformat": 4,
 "nbformat_minor": 5
}
